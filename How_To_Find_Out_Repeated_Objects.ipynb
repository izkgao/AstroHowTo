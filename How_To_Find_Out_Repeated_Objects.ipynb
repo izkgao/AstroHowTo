{
 "cells": [
  {
   "cell_type": "code",
   "execution_count": 1,
   "metadata": {
    "collapsed": true
   },
   "outputs": [],
   "source": [
    "import numpy as np\n",
    "from scipy.spatial import cKDTree"
   ]
  },
  {
   "cell_type": "markdown",
   "metadata": {},
   "source": [
    "## 1. Put ra, dec in a 2D array"
   ]
  },
  {
   "cell_type": "markdown",
   "metadata": {},
   "source": [
    "### For list or array"
   ]
  },
  {
   "cell_type": "code",
   "execution_count": 2,
   "metadata": {
    "collapsed": true
   },
   "outputs": [],
   "source": [
    "ra = [0.000308, 0.00033, 0.000344, 0.000375, 0.000382, 0.000392, 0.000393, 0.000404, 0.000406, 0.000413, 0.000452, 0.000454, 0.000478, 0.000479, 0.000518, 0.000529, 0.000543, 0.000873, 0.001025, 0.001235]\n",
    "dec = [28.590104, 28.590124, 28.590212, 28.590139, 28.590183, 28.590152, 28.590159, 28.590125, 28.590121, 28.590282, 28.590196, 28.59008, 28.590071, 28.59016, 28.590167, 28.590139, 28.590132, 28.426716, 28.426713, 28.820178]\n",
    "radec = np.vstack([ra, dec]).T"
   ]
  },
  {
   "cell_type": "code",
   "execution_count": 3,
   "metadata": {
    "scrolled": true
   },
   "outputs": [
    {
     "data": {
      "text/plain": [
       "array([[  3.08000000e-04,   2.85901040e+01],\n",
       "       [  3.30000000e-04,   2.85901240e+01],\n",
       "       [  3.44000000e-04,   2.85902120e+01],\n",
       "       [  3.75000000e-04,   2.85901390e+01],\n",
       "       [  3.82000000e-04,   2.85901830e+01],\n",
       "       [  3.92000000e-04,   2.85901520e+01],\n",
       "       [  3.93000000e-04,   2.85901590e+01],\n",
       "       [  4.04000000e-04,   2.85901250e+01],\n",
       "       [  4.06000000e-04,   2.85901210e+01],\n",
       "       [  4.13000000e-04,   2.85902820e+01],\n",
       "       [  4.52000000e-04,   2.85901960e+01],\n",
       "       [  4.54000000e-04,   2.85900800e+01],\n",
       "       [  4.78000000e-04,   2.85900710e+01],\n",
       "       [  4.79000000e-04,   2.85901600e+01],\n",
       "       [  5.18000000e-04,   2.85901670e+01],\n",
       "       [  5.29000000e-04,   2.85901390e+01],\n",
       "       [  5.43000000e-04,   2.85901320e+01],\n",
       "       [  8.73000000e-04,   2.84267160e+01],\n",
       "       [  1.02500000e-03,   2.84267130e+01],\n",
       "       [  1.23500000e-03,   2.88201780e+01]])"
      ]
     },
     "execution_count": 3,
     "metadata": {},
     "output_type": "execute_result"
    }
   ],
   "source": [
    "radec"
   ]
  },
  {
   "cell_type": "markdown",
   "metadata": {},
   "source": [
    "### For pandas"
   ]
  },
  {
   "cell_type": "code",
   "execution_count": null,
   "metadata": {
    "collapsed": true
   },
   "outputs": [],
   "source": [
    "radec = df[['ra', 'dec']].values"
   ]
  },
  {
   "cell_type": "markdown",
   "metadata": {},
   "source": [
    "## 2. Build a KDTree"
   ]
  },
  {
   "cell_type": "code",
   "execution_count": 4,
   "metadata": {
    "collapsed": true
   },
   "outputs": [],
   "source": [
    "tree = cKDTree(radec)"
   ]
  },
  {
   "cell_type": "code",
   "execution_count": 5,
   "metadata": {
    "collapsed": true
   },
   "outputs": [],
   "source": [
    "results = tree.query_ball_point(radec, r=1.5 / 3600) # searching radius = 1.5 arcsec"
   ]
  },
  {
   "cell_type": "markdown",
   "metadata": {},
   "source": [
    "### It means that from index 0 to 16 are in the same group so do [17, 18]s and [19]."
   ]
  },
  {
   "cell_type": "code",
   "execution_count": 6,
   "metadata": {},
   "outputs": [
    {
     "data": {
      "text/plain": [
       "array([list([0, 1, 2, 3, 4, 5, 6, 7, 8, 9, 10, 11, 12, 13, 14, 15, 16]),\n",
       "       list([0, 1, 2, 3, 4, 5, 6, 7, 8, 9, 10, 11, 12, 13, 14, 15, 16]),\n",
       "       list([0, 1, 2, 3, 4, 5, 6, 7, 8, 9, 10, 11, 12, 13, 14, 15, 16]),\n",
       "       list([0, 1, 2, 3, 4, 5, 6, 7, 8, 9, 10, 11, 12, 13, 14, 15, 16]),\n",
       "       list([0, 1, 2, 3, 4, 5, 6, 7, 8, 9, 10, 11, 12, 13, 14, 15, 16]),\n",
       "       list([0, 1, 2, 3, 4, 5, 6, 7, 8, 9, 10, 11, 12, 13, 14, 15, 16]),\n",
       "       list([0, 1, 2, 3, 4, 5, 6, 7, 8, 9, 10, 11, 12, 13, 14, 15, 16]),\n",
       "       list([0, 1, 2, 3, 4, 5, 6, 7, 8, 9, 10, 11, 12, 13, 14, 15, 16]),\n",
       "       list([0, 1, 2, 3, 4, 5, 6, 7, 8, 9, 10, 11, 12, 13, 14, 15, 16]),\n",
       "       list([0, 1, 2, 3, 4, 5, 6, 7, 8, 9, 10, 11, 12, 13, 14, 15, 16]),\n",
       "       list([0, 1, 2, 3, 4, 5, 6, 7, 8, 9, 10, 11, 12, 13, 14, 15, 16]),\n",
       "       list([0, 1, 2, 3, 4, 5, 6, 7, 8, 9, 10, 11, 12, 13, 14, 15, 16]),\n",
       "       list([0, 1, 2, 3, 4, 5, 6, 7, 8, 9, 10, 11, 12, 13, 14, 15, 16]),\n",
       "       list([0, 1, 2, 3, 4, 5, 6, 7, 8, 9, 10, 11, 12, 13, 14, 15, 16]),\n",
       "       list([0, 1, 2, 3, 4, 5, 6, 7, 8, 9, 10, 11, 12, 13, 14, 15, 16]),\n",
       "       list([0, 1, 2, 3, 4, 5, 6, 7, 8, 9, 10, 11, 12, 13, 14, 15, 16]),\n",
       "       list([0, 1, 2, 3, 4, 5, 6, 7, 8, 9, 10, 11, 12, 13, 14, 15, 16]),\n",
       "       list([17, 18]), list([17, 18]), list([19])], dtype=object)"
      ]
     },
     "execution_count": 6,
     "metadata": {},
     "output_type": "execute_result"
    }
   ],
   "source": [
    "results"
   ]
  },
  {
   "cell_type": "code",
   "execution_count": 7,
   "metadata": {},
   "outputs": [
    {
     "data": {
      "text/plain": [
       "array([list([0, 1, 2, 3, 4, 5, 6, 7, 8, 9, 10, 11, 12, 13, 14, 15, 16]),\n",
       "       list([17, 18]), list([19])], dtype=object)"
      ]
     },
     "execution_count": 7,
     "metadata": {},
     "output_type": "execute_result"
    }
   ],
   "source": [
    "np.unique(results)"
   ]
  },
  {
   "cell_type": "code",
   "execution_count": null,
   "metadata": {
    "collapsed": true
   },
   "outputs": [],
   "source": [
    "dfs = [df.iloc[i] for i in np.unique(results)]"
   ]
  }
 ],
 "metadata": {
  "kernelspec": {
   "display_name": "Python 3",
   "language": "python",
   "name": "python3"
  },
  "language_info": {
   "codemirror_mode": {
    "name": "ipython",
    "version": 3
   },
   "file_extension": ".py",
   "mimetype": "text/x-python",
   "name": "python",
   "nbconvert_exporter": "python",
   "pygments_lexer": "ipython3",
   "version": "3.6.2"
  }
 },
 "nbformat": 4,
 "nbformat_minor": 2
}
