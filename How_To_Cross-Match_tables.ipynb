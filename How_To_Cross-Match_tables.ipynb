{
 "cells": [
  {
   "cell_type": "markdown",
   "metadata": {},
   "source": [
    "# Import packages"
   ]
  },
  {
   "cell_type": "code",
   "execution_count": 1,
   "metadata": {},
   "outputs": [],
   "source": [
    "from __future__ import division, print_function # Make these codes be compatible with Python 2\n",
    "import time\n",
    "import numpy as np\n",
    "import pandas as pd"
   ]
  },
  {
   "cell_type": "markdown",
   "metadata": {},
   "source": [
    "# Read tables into dataframes"
   ]
  },
  {
   "cell_type": "code",
   "execution_count": 2,
   "metadata": {},
   "outputs": [],
   "source": [
    "dfa = pd.read_csv('files/table_A.csv')\n",
    "dfb = pd.read_csv('files/table_B.csv')"
   ]
  },
  {
   "cell_type": "code",
   "execution_count": 3,
   "metadata": {
    "scrolled": true
   },
   "outputs": [
    {
     "data": {
      "text/html": [
       "<div>\n",
       "<style scoped>\n",
       "    .dataframe tbody tr th:only-of-type {\n",
       "        vertical-align: middle;\n",
       "    }\n",
       "\n",
       "    .dataframe tbody tr th {\n",
       "        vertical-align: top;\n",
       "    }\n",
       "\n",
       "    .dataframe thead th {\n",
       "        text-align: right;\n",
       "    }\n",
       "</style>\n",
       "<table border=\"1\" class=\"dataframe\">\n",
       "  <thead>\n",
       "    <tr style=\"text-align: right;\">\n",
       "      <th></th>\n",
       "      <th>ra</th>\n",
       "      <th>dec</th>\n",
       "      <th>z</th>\n",
       "      <th>specObjID</th>\n",
       "      <th>objid</th>\n",
       "      <th>u_mag</th>\n",
       "      <th>g_mag</th>\n",
       "      <th>r_mag</th>\n",
       "      <th>i_mag</th>\n",
       "      <th>z_mag</th>\n",
       "    </tr>\n",
       "  </thead>\n",
       "  <tbody>\n",
       "    <tr>\n",
       "      <th>0</th>\n",
       "      <td>187.27970</td>\n",
       "      <td>-1.193372</td>\n",
       "      <td>0.032031</td>\n",
       "      <td>3.250000e+17</td>\n",
       "      <td>1.240000e+18</td>\n",
       "      <td>19.24800</td>\n",
       "      <td>18.01970</td>\n",
       "      <td>17.60396</td>\n",
       "      <td>17.41241</td>\n",
       "      <td>17.15981</td>\n",
       "    </tr>\n",
       "    <tr>\n",
       "      <th>1</th>\n",
       "      <td>210.76184</td>\n",
       "      <td>-1.094643</td>\n",
       "      <td>0.032493</td>\n",
       "      <td>3.400000e+17</td>\n",
       "      <td>1.240000e+18</td>\n",
       "      <td>18.59815</td>\n",
       "      <td>17.87038</td>\n",
       "      <td>17.66903</td>\n",
       "      <td>17.52236</td>\n",
       "      <td>17.59061</td>\n",
       "    </tr>\n",
       "    <tr>\n",
       "      <th>2</th>\n",
       "      <td>185.74969</td>\n",
       "      <td>-0.293052</td>\n",
       "      <td>0.030245</td>\n",
       "      <td>3.250000e+17</td>\n",
       "      <td>1.240000e+18</td>\n",
       "      <td>19.02032</td>\n",
       "      <td>18.05203</td>\n",
       "      <td>17.60972</td>\n",
       "      <td>17.43984</td>\n",
       "      <td>17.47915</td>\n",
       "    </tr>\n",
       "    <tr>\n",
       "      <th>3</th>\n",
       "      <td>193.52240</td>\n",
       "      <td>0.175311</td>\n",
       "      <td>0.022748</td>\n",
       "      <td>3.290000e+17</td>\n",
       "      <td>1.240000e+18</td>\n",
       "      <td>18.30348</td>\n",
       "      <td>16.88793</td>\n",
       "      <td>16.19267</td>\n",
       "      <td>15.73816</td>\n",
       "      <td>15.40265</td>\n",
       "    </tr>\n",
       "    <tr>\n",
       "      <th>4</th>\n",
       "      <td>222.84758</td>\n",
       "      <td>0.007093</td>\n",
       "      <td>0.023165</td>\n",
       "      <td>3.480000e+17</td>\n",
       "      <td>1.240000e+18</td>\n",
       "      <td>17.55991</td>\n",
       "      <td>15.81113</td>\n",
       "      <td>15.03432</td>\n",
       "      <td>14.67037</td>\n",
       "      <td>14.45513</td>\n",
       "    </tr>\n",
       "  </tbody>\n",
       "</table>\n",
       "</div>"
      ],
      "text/plain": [
       "          ra       dec         z     specObjID         objid     u_mag  \\\n",
       "0  187.27970 -1.193372  0.032031  3.250000e+17  1.240000e+18  19.24800   \n",
       "1  210.76184 -1.094643  0.032493  3.400000e+17  1.240000e+18  18.59815   \n",
       "2  185.74969 -0.293052  0.030245  3.250000e+17  1.240000e+18  19.02032   \n",
       "3  193.52240  0.175311  0.022748  3.290000e+17  1.240000e+18  18.30348   \n",
       "4  222.84758  0.007093  0.023165  3.480000e+17  1.240000e+18  17.55991   \n",
       "\n",
       "      g_mag     r_mag     i_mag     z_mag  \n",
       "0  18.01970  17.60396  17.41241  17.15981  \n",
       "1  17.87038  17.66903  17.52236  17.59061  \n",
       "2  18.05203  17.60972  17.43984  17.47915  \n",
       "3  16.88793  16.19267  15.73816  15.40265  \n",
       "4  15.81113  15.03432  14.67037  14.45513  "
      ]
     },
     "execution_count": 3,
     "metadata": {},
     "output_type": "execute_result"
    }
   ],
   "source": [
    "dfa.head()"
   ]
  },
  {
   "cell_type": "code",
   "execution_count": 4,
   "metadata": {},
   "outputs": [
    {
     "data": {
      "text/html": [
       "<div>\n",
       "<style scoped>\n",
       "    .dataframe tbody tr th:only-of-type {\n",
       "        vertical-align: middle;\n",
       "    }\n",
       "\n",
       "    .dataframe tbody tr th {\n",
       "        vertical-align: top;\n",
       "    }\n",
       "\n",
       "    .dataframe thead th {\n",
       "        text-align: right;\n",
       "    }\n",
       "</style>\n",
       "<table border=\"1\" class=\"dataframe\">\n",
       "  <thead>\n",
       "    <tr style=\"text-align: right;\">\n",
       "      <th></th>\n",
       "      <th>wise_ra</th>\n",
       "      <th>wise_dec</th>\n",
       "      <th>sdss_objid</th>\n",
       "      <th>w1</th>\n",
       "      <th>w1err</th>\n",
       "      <th>w1snr</th>\n",
       "      <th>w2</th>\n",
       "      <th>w2err</th>\n",
       "      <th>w2snr</th>\n",
       "      <th>w3</th>\n",
       "      <th>w3err</th>\n",
       "      <th>w3snr</th>\n",
       "      <th>w4</th>\n",
       "      <th>w4err</th>\n",
       "      <th>w4snr</th>\n",
       "    </tr>\n",
       "  </thead>\n",
       "  <tbody>\n",
       "    <tr>\n",
       "      <th>0</th>\n",
       "      <td>0.697183</td>\n",
       "      <td>29.359842</td>\n",
       "      <td>1237663307454874339</td>\n",
       "      <td>14.330</td>\n",
       "      <td>0.030</td>\n",
       "      <td>36.7</td>\n",
       "      <td>14.054</td>\n",
       "      <td>0.046</td>\n",
       "      <td>23.6</td>\n",
       "      <td>12.702</td>\n",
       "      <td>9999.000</td>\n",
       "      <td>-1.5</td>\n",
       "      <td>9.230</td>\n",
       "      <td>9999.0</td>\n",
       "      <td>-1.1</td>\n",
       "    </tr>\n",
       "    <tr>\n",
       "      <th>1</th>\n",
       "      <td>359.329741</td>\n",
       "      <td>32.799931</td>\n",
       "      <td>1237663306916430563</td>\n",
       "      <td>17.363</td>\n",
       "      <td>0.190</td>\n",
       "      <td>5.7</td>\n",
       "      <td>17.097</td>\n",
       "      <td>9999.000</td>\n",
       "      <td>-0.2</td>\n",
       "      <td>12.429</td>\n",
       "      <td>9999.000</td>\n",
       "      <td>1.0</td>\n",
       "      <td>9.065</td>\n",
       "      <td>9999.0</td>\n",
       "      <td>0.5</td>\n",
       "    </tr>\n",
       "    <tr>\n",
       "      <th>2</th>\n",
       "      <td>1.379313</td>\n",
       "      <td>24.340139</td>\n",
       "      <td>1237663306920231248</td>\n",
       "      <td>17.354</td>\n",
       "      <td>0.177</td>\n",
       "      <td>6.1</td>\n",
       "      <td>16.286</td>\n",
       "      <td>0.314</td>\n",
       "      <td>3.5</td>\n",
       "      <td>12.748</td>\n",
       "      <td>9999.000</td>\n",
       "      <td>-0.6</td>\n",
       "      <td>8.721</td>\n",
       "      <td>9999.0</td>\n",
       "      <td>1.0</td>\n",
       "    </tr>\n",
       "    <tr>\n",
       "      <th>3</th>\n",
       "      <td>2.291314</td>\n",
       "      <td>24.765421</td>\n",
       "      <td>1237663307993842580</td>\n",
       "      <td>16.353</td>\n",
       "      <td>0.074</td>\n",
       "      <td>14.7</td>\n",
       "      <td>16.233</td>\n",
       "      <td>0.281</td>\n",
       "      <td>3.9</td>\n",
       "      <td>12.498</td>\n",
       "      <td>9999.000</td>\n",
       "      <td>-0.6</td>\n",
       "      <td>8.351</td>\n",
       "      <td>9999.0</td>\n",
       "      <td>1.6</td>\n",
       "    </tr>\n",
       "    <tr>\n",
       "      <th>4</th>\n",
       "      <td>2.475097</td>\n",
       "      <td>26.254814</td>\n",
       "      <td>1237663308530122881</td>\n",
       "      <td>13.670</td>\n",
       "      <td>0.027</td>\n",
       "      <td>40.8</td>\n",
       "      <td>13.599</td>\n",
       "      <td>0.038</td>\n",
       "      <td>28.6</td>\n",
       "      <td>11.877</td>\n",
       "      <td>0.246</td>\n",
       "      <td>4.4</td>\n",
       "      <td>9.057</td>\n",
       "      <td>9999.0</td>\n",
       "      <td>0.4</td>\n",
       "    </tr>\n",
       "  </tbody>\n",
       "</table>\n",
       "</div>"
      ],
      "text/plain": [
       "      wise_ra   wise_dec           sdss_objid      w1  w1err  w1snr      w2  \\\n",
       "0    0.697183  29.359842  1237663307454874339  14.330  0.030   36.7  14.054   \n",
       "1  359.329741  32.799931  1237663306916430563  17.363  0.190    5.7  17.097   \n",
       "2    1.379313  24.340139  1237663306920231248  17.354  0.177    6.1  16.286   \n",
       "3    2.291314  24.765421  1237663307993842580  16.353  0.074   14.7  16.233   \n",
       "4    2.475097  26.254814  1237663308530122881  13.670  0.027   40.8  13.599   \n",
       "\n",
       "      w2err  w2snr      w3     w3err  w3snr     w4   w4err  w4snr  \n",
       "0     0.046   23.6  12.702  9999.000   -1.5  9.230  9999.0   -1.1  \n",
       "1  9999.000   -0.2  12.429  9999.000    1.0  9.065  9999.0    0.5  \n",
       "2     0.314    3.5  12.748  9999.000   -0.6  8.721  9999.0    1.0  \n",
       "3     0.281    3.9  12.498  9999.000   -0.6  8.351  9999.0    1.6  \n",
       "4     0.038   28.6  11.877     0.246    4.4  9.057  9999.0    0.4  "
      ]
     },
     "execution_count": 4,
     "metadata": {},
     "output_type": "execute_result"
    }
   ],
   "source": [
    "dfb.head()"
   ]
  },
  {
   "cell_type": "code",
   "execution_count": 5,
   "metadata": {},
   "outputs": [
    {
     "name": "stdout",
     "output_type": "stream",
     "text": [
      "Table A has 59574 objects.\n",
      "Table B has 129350 objects.\n"
     ]
    }
   ],
   "source": [
    "print('Table A has', len(dfa), 'objects.')\n",
    "print('Table B has', len(dfb), 'objects.')"
   ]
  },
  {
   "cell_type": "code",
   "execution_count": 6,
   "metadata": {},
   "outputs": [],
   "source": [
    "ra_a = dfa['ra'].values\n",
    "dec_a = dfa['dec'].values\n",
    "\n",
    "ra_b = dfb['wise_ra'].values\n",
    "dec_b = dfb['wise_dec'].values"
   ]
  },
  {
   "cell_type": "markdown",
   "metadata": {},
   "source": [
    "# 1. Naive cross-matcher"
   ]
  },
  {
   "cell_type": "markdown",
   "metadata": {},
   "source": [
    "### Use for loop to do cross-match\n",
    "#### $\\mathrm{Distance} = \\sqrt{(RA_{ai}-RA_{bi})^{2}+(Dec_{ai}-Dec_{bi})^{2}}$"
   ]
  },
  {
   "cell_type": "code",
   "execution_count": 7,
   "metadata": {
    "scrolled": true
   },
   "outputs": [],
   "source": [
    "# Start time\n",
    "t1_0 = time.time()\n",
    "\n",
    "#------------------------------------\n",
    "idx = []\n",
    "for i in range(len(dfa[:10])):\n",
    "    dist = []\n",
    "    for j in range(len(dfb)):\n",
    "        # Calcuate the distance between target from dfa and all targets from dfb\n",
    "        dist.append(np.sqrt((ra_a[i] - ra_b[j])**2 + (dec_a[i] - dec_b[j])**2))\n",
    "    # Check whether the minimum is less than the given radius (1 arcsec)\n",
    "    if min(dist) < (1. / 3600.):\n",
    "        idx.append(dist.index(min(dist)))\n",
    "    # Otherwise, set the matching index to -9999 for not matched\n",
    "    else:\n",
    "        idx.append(-9999)\n",
    "#------------------------------------\n",
    "\n",
    "# End time\n",
    "t1_1 = time.time()\n",
    "# Time interval for matching two targets\n",
    "dt1 = t1_1 - t1_0\n",
    "# Time interval scaled to all targets\n",
    "dt1t = dt1 / (len(dfa[:10]) / len(dfa))"
   ]
  },
  {
   "cell_type": "code",
   "execution_count": 8,
   "metadata": {},
   "outputs": [
    {
     "name": "stdout",
     "output_type": "stream",
     "text": [
      "Time for matching 10 targets: 7.05 seconds\n",
      "Time for matching all targets: 11.66 hours\n"
     ]
    }
   ],
   "source": [
    "print('Time for matching 10 targets:', round(dt1, 2), 'seconds')\n",
    "print('Time for matching all targets:', round(dt1t / 3600, 2), 'hours')"
   ]
  },
  {
   "cell_type": "markdown",
   "metadata": {},
   "source": [
    "# 2. Numpy array cross-matcher"
   ]
  },
  {
   "cell_type": "code",
   "execution_count": 9,
   "metadata": {},
   "outputs": [],
   "source": [
    "# Start time\n",
    "t2_0 = time.time()\n",
    "\n",
    "# Array filled up with zero as the same dimension as ra_a\n",
    "idx = np.zeros_like(ra_a)\n",
    "dist = np.zeros_like(ra_a)\n",
    "\n",
    "for i in range(len(dfa[:2500])):\n",
    "    # Use ``numpy.where`` to find out targets within the given radius (1 arcsec)\n",
    "    ind = np.where(np.sqrt((ra_b - ra_a[i])**2 + (dec_b - dec_a[i])**2) < (1. / 3600.))[0]\n",
    "    if ind.size == 0:\n",
    "        idx[i] = -9999\n",
    "        dist[i] = -9999\n",
    "    else:\n",
    "        idx[i] = ind[0]\n",
    "        dist[i] = np.sqrt((ra_b[ind[0]] - ra_a[i])**2 + (dec_b[ind[0]] - dec_a[i])**2)\n",
    "\n",
    "# End time\n",
    "t2_1 = time.time()\n",
    "# Time interval for matching 5000 targets\n",
    "dt2 = t2_1 - t2_0\n",
    "# Time interval scaled to all targets\n",
    "dt2t = dt2 / (len(dfa[:2500]) / len(dfa))"
   ]
  },
  {
   "cell_type": "code",
   "execution_count": 10,
   "metadata": {},
   "outputs": [
    {
     "name": "stdout",
     "output_type": "stream",
     "text": [
      "Time for matching 2500 targets: 6.9 seconds\n",
      "Time for matching all targets: 164.39 seconds\n"
     ]
    }
   ],
   "source": [
    "print('Time for matching 2500 targets:', round(dt2, 2), 'seconds')\n",
    "print('Time for matching all targets:', round(dt2t, 2), 'seconds')"
   ]
  },
  {
   "cell_type": "markdown",
   "metadata": {},
   "source": [
    "# 3. Astropy SkyCoord cross-matcher"
   ]
  },
  {
   "cell_type": "code",
   "execution_count": 11,
   "metadata": {},
   "outputs": [],
   "source": [
    "from astropy.coordinates import SkyCoord\n",
    "from astropy import units as u"
   ]
  },
  {
   "cell_type": "code",
   "execution_count": 12,
   "metadata": {},
   "outputs": [],
   "source": [
    "# Start time\n",
    "t3_0 = time.time()\n",
    "\n",
    "# Convert ra, dec to SkyCoord\n",
    "ca = SkyCoord(ra_a*u.deg, dec_a*u.deg)\n",
    "cb = SkyCoord(ra_b*u.deg, dec_b*u.deg)\n",
    "\n",
    "# Matching\n",
    "idx, d2d, d3d = ca.match_to_catalog_sky(cb)\n",
    "matches = cb[idx]\n",
    "dra, ddec = ca.spherical_offsets_to(matches)\n",
    "\n",
    "# Set a matching radius\n",
    "idx_new = idx[d2d < 1 * u.arcsec]\n",
    "\n",
    "# End time\n",
    "t3_1 = time.time()\n",
    "dt3 = t3_1 - t3_0"
   ]
  },
  {
   "cell_type": "code",
   "execution_count": 13,
   "metadata": {},
   "outputs": [
    {
     "name": "stdout",
     "output_type": "stream",
     "text": [
      "Time for matching all targets: 0.49 seconds\n"
     ]
    }
   ],
   "source": [
    "print('Time for matching all targets:', round(dt3, 2), 'seconds')"
   ]
  },
  {
   "cell_type": "markdown",
   "metadata": {},
   "source": [
    "# 4. Astroml cross-matcher"
   ]
  },
  {
   "cell_type": "code",
   "execution_count": 14,
   "metadata": {},
   "outputs": [],
   "source": [
    "from astroML.crossmatch import crossmatch_angular"
   ]
  },
  {
   "cell_type": "code",
   "execution_count": 15,
   "metadata": {},
   "outputs": [],
   "source": [
    "# Start time\n",
    "t4_0 = time.time()\n",
    "\n",
    "imX = np.vstack((ra_a, dec_a)).T\n",
    "\n",
    "stX = np.vstack((ra_b, dec_b)).T\n",
    "\n",
    "# crossmatch catalogs\n",
    "max_radius = 1. / 3600\n",
    "dist, idx = crossmatch_angular(imX, stX, max_radius)\n",
    "match = ~np.isinf(dist)\n",
    "\n",
    "# Set those not matched to -9999\n",
    "idx[~match] = -9999\n",
    "\n",
    "# End time\n",
    "t4_1 = time.time()\n",
    "dt4 = t4_1 - t4_0"
   ]
  },
  {
   "cell_type": "code",
   "execution_count": 16,
   "metadata": {},
   "outputs": [
    {
     "name": "stdout",
     "output_type": "stream",
     "text": [
      "Time for matching all targets: 0.23 seconds\n"
     ]
    }
   ],
   "source": [
    "print('Time for matching all targets:', round(dt4, 2), 'seconds')"
   ]
  },
  {
   "cell_type": "markdown",
   "metadata": {},
   "source": [
    "# Time"
   ]
  },
  {
   "cell_type": "code",
   "execution_count": 17,
   "metadata": {},
   "outputs": [
    {
     "name": "stdout",
     "output_type": "stream",
     "text": [
      "1. Naive cross-matcher:\t\t\t11.66 hours \t 255.41 times faster than \"2. Numpy array cross-matcher\"\n",
      "2. Numpy array cross-matcher:\t\t2.74 mins \t 337.5 times faster than \"3. Astropy SkyCoord cross-matcher\"\n",
      "3. Astropy SkyCoord cross-matcher:\t0.49 secs \t 2.16 times faster than \"4. Astroml cross-matcher\"\n",
      "4. Astroml cross-matcher:\t\t0.23 secs\n"
     ]
    }
   ],
   "source": [
    "print('1. Naive cross-matcher:\\t\\t\\t{} hours \\t {} times faster than \"2. Numpy array cross-matcher\"'.format(round(dt1t / 3600, 2), round(dt1t/dt2t, 2)))\n",
    "print('2. Numpy array cross-matcher:\\t\\t{} mins \\t {} times faster than \"3. Astropy SkyCoord cross-matcher\"'.format(round(dt2t / 60, 2), round(dt2t/dt3, 2)))\n",
    "print('3. Astropy SkyCoord cross-matcher:\\t{} secs \\t {} times faster than \"4. Astroml cross-matcher\"'.format(round(dt3, 2), round(dt3/dt4, 2)))\n",
    "print('4. Astroml cross-matcher:\\t\\t{} secs'.format(round(dt4, 2)))"
   ]
  },
  {
   "cell_type": "code",
   "execution_count": null,
   "metadata": {},
   "outputs": [],
   "source": []
  }
 ],
 "metadata": {
  "kernelspec": {
   "display_name": "Python 3",
   "language": "python",
   "name": "python3"
  },
  "language_info": {
   "codemirror_mode": {
    "name": "ipython",
    "version": 3
   },
   "file_extension": ".py",
   "mimetype": "text/x-python",
   "name": "python",
   "nbconvert_exporter": "python",
   "pygments_lexer": "ipython3",
   "version": "3.6.5"
  }
 },
 "nbformat": 4,
 "nbformat_minor": 2
}
